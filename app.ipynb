{
 "cells": [
  {
   "cell_type": "code",
   "execution_count": 2,
   "id": "68e2bd99",
   "metadata": {},
   "outputs": [],
   "source": [
    "import pandas as pd\n",
    "from sentence_transformers import SentenceTransformer\n",
    "from sklearn.metrics.pairwise import cosine_similarity\n",
    "import gradio as gr\n",
    "import numpy as np\n",
    "import os"
   ]
  },
  {
   "cell_type": "code",
   "execution_count": 3,
   "id": "e362709d",
   "metadata": {},
   "outputs": [],
   "source": [
    "data_file = 'imdb_top_1000.csv'"
   ]
  },
  {
   "cell_type": "code",
   "execution_count": 4,
   "id": "fcb4f1a5",
   "metadata": {},
   "outputs": [
    {
     "name": "stdout",
     "output_type": "stream",
     "text": [
      "Movie count: 1000\n",
      "Movie count after dropping duplicate titles: 999\n"
     ]
    }
   ],
   "source": [
    "try:\n",
    "    df = pd.read_csv(data_file)\n",
    "    print(f'Movie count: {len(df)}')\n",
    "\n",
    "    df.rename(columns={'Series_Title': 'title'}, inplace=True)\n",
    "\n",
    "    df['Overview'] = df['Overview'].fillna('')\n",
    "    df['Genre'] = df['Genre'].fillna('')\n",
    "    df['Director'] = df['Director'].fillna('')\n",
    "    df['Star1'] = df['Star1'].fillna('')\n",
    "    df['Star2'] = df['Star2'].fillna('')\n",
    "    df['Star3'] = df['Star3'].fillna('')\n",
    "    df['Star4'] = df['Star4'].fillna('')\n",
    "\n",
    "    df['tags'] = df['Overview'] + ' ' + \\\n",
    "                 df['Genre'].str.replace(',', ' ') + ' ' + \\\n",
    "                 df['Director'] + ' ' + \\\n",
    "                 df['Star1'] + ' ' + df['Star2'] + ' ' + \\\n",
    "                 df['Star3'] + ' ' + df['Star4']\n",
    "    \n",
    "    df['tags'] = df['tags'].apply(lambda x: x.lower().strip())\n",
    "\n",
    "    df.drop_duplicates(subset=['title'], inplace=True)\n",
    "    print(f'Movie count after dropping duplicate titles: {len(df)}')\n",
    "\n",
    "except FileNotFoundError:\n",
    "    print(f'Error {data_file} not found')\n",
    "    exit()\n"
   ]
  },
  {
   "cell_type": "code",
   "execution_count": 5,
   "id": "1e8e05e9",
   "metadata": {},
   "outputs": [
    {
     "name": "stdout",
     "output_type": "stream",
     "text": [
      "Loading the embedding model\n",
      "model loaded\n",
      "Generating movie embeddings... This might take a moment\n"
     ]
    },
    {
     "name": "stderr",
     "output_type": "stream",
     "text": [
      "Batches: 100%|██████████| 32/32 [00:00<00:00, 45.20it/s]"
     ]
    },
    {
     "name": "stdout",
     "output_type": "stream",
     "text": [
      "Embeddings generated\n"
     ]
    },
    {
     "name": "stderr",
     "output_type": "stream",
     "text": [
      "\n"
     ]
    }
   ],
   "source": [
    "print('Loading the embedding model')\n",
    "model = SentenceTransformer('all-MiniLM-L6-V2')\n",
    "print('model loaded')\n",
    "print('Generating movie embeddings... This might take a moment')\n",
    "movie_embeddings = model.encode(df['tags'].tolist(), show_progress_bar=True)\n",
    "print('Embeddings generated')"
   ]
  },
  {
   "cell_type": "code",
   "execution_count": 6,
   "id": "343bb6e2",
   "metadata": {},
   "outputs": [],
   "source": [
    "def recommend_movies(movie_title, top_n=5):\n",
    "    movie_title_lower = movie_title.lower().strip()\n",
    "\n",
    "    movie_idx_candidates = df[df['title'].str.lower()==movie_title_lower].index\n",
    "\n",
    "    if len(movie_idx_candidates) == 0:\n",
    "        movie_idx_candidates = df[df['title'].str.lower().str.contains(movie_title_lower, na=False)].index\n",
    "        if len(movie_idx_candidates) == 0:\n",
    "            return f'Sorry, movie {movie_title} not found in our database. Please try another title or a partial match'\n",
    "    \n",
    "    movie_idx = movie_idx_candidates[0]\n",
    "\n",
    "    target_embedding = movie_embeddings[movie_idx].reshape(1, -1)\n",
    "    similarities = cosine_similarity(target_embedding,movie_embeddings).flatten()\n",
    "\n",
    "    sorted_indices = similarities.argsort()[::-1]\n",
    "\n",
    "    recommended_movies_list = []\n",
    "    count = 0\n",
    "    for idx in sorted_indices:\n",
    "        if idx == movie_idx:\n",
    "            continue\n",
    "        recommended_movies_list.append(df.iloc[idx]['title'])\n",
    "        count +=1\n",
    "        if count >= top_n:\n",
    "            break\n",
    "\n",
    "    if not recommended_movies_list:\n",
    "        return 'No recommendations found (perhaps the dataset is too small or the movie is unique)'\n",
    "    \n",
    "    return 'Recommended Movies:\\n' + '\\n'.join([f'- {m}' for m in recommended_movies_list])\n"
   ]
  },
  {
   "cell_type": "code",
   "execution_count": 8,
   "id": "a9d5a673",
   "metadata": {},
   "outputs": [
    {
     "name": "stdout",
     "output_type": "stream",
     "text": [
      "Setting up Gradio interface...\n",
      "Gradio interface starting. Open your browser to the URL provided.\n",
      "* Running on local URL:  http://127.0.0.1:7861\n",
      "* Running on public URL: https://a6d8ec8e50a3df1a76.gradio.live\n",
      "\n",
      "This share link expires in 1 week. For free permanent hosting and GPU upgrades, run `gradio deploy` from the terminal in the working directory to deploy to Hugging Face Spaces (https://huggingface.co/spaces)\n"
     ]
    },
    {
     "data": {
      "text/html": [
       "<div><iframe src=\"https://a6d8ec8e50a3df1a76.gradio.live\" width=\"100%\" height=\"500\" allow=\"autoplay; camera; microphone; clipboard-read; clipboard-write;\" frameborder=\"0\" allowfullscreen></iframe></div>"
      ],
      "text/plain": [
       "<IPython.core.display.HTML object>"
      ]
     },
     "metadata": {},
     "output_type": "display_data"
    }
   ],
   "source": [
    "print(\"Setting up Gradio interface...\")\n",
    "iface = gr.Interface(\n",
    "    fn=recommend_movies,\n",
    "    inputs=gr.Textbox(label=\"Enter a movie title (e.g., The Dark Knight, Inception)\"),\n",
    "    outputs=gr.Textbox(label=\"Recommendations\"),\n",
    "    title=\"IMDB Top 1000 Movie Recommender (Text Embeddings)\",\n",
    "    description=\"Enter a movie title from the IMDB Top 1000 to get recommendations based on content similarity (overview, genre, director, stars).\",\n",
    "    examples=[\n",
    "        \"The Shawshank Redemption\",\n",
    "        \"The Dark Knight\",\n",
    "        \"Inception\",\n",
    "        \"Pulp Fiction\",\n",
    "        \"Spirited Away\",\n",
    "        \"Interstellar\",\n",
    "        \"Forrest Gump\"\n",
    "    ]\n",
    ")\n",
    "\n",
    "if __name__ == \"__main__\":\n",
    "    print(\"Gradio interface starting. Open your browser to the URL provided.\")\n",
    "    iface.launch(share=True)"
   ]
  },
  {
   "cell_type": "code",
   "execution_count": null,
   "id": "b77f5abd",
   "metadata": {},
   "outputs": [],
   "source": []
  }
 ],
 "metadata": {
  "kernelspec": {
   "display_name": "movie-rec",
   "language": "python",
   "name": "python3"
  },
  "language_info": {
   "codemirror_mode": {
    "name": "ipython",
    "version": 3
   },
   "file_extension": ".py",
   "mimetype": "text/x-python",
   "name": "python",
   "nbconvert_exporter": "python",
   "pygments_lexer": "ipython3",
   "version": "3.11.13"
  }
 },
 "nbformat": 4,
 "nbformat_minor": 5
}
